{
  "nbformat": 4,
  "nbformat_minor": 0,
  "metadata": {
    "colab": {
      "provenance": []
    },
    "kernelspec": {
      "name": "python3",
      "display_name": "Python 3"
    },
    "language_info": {
      "name": "python"
    }
  },
  "cells": [
    {
      "cell_type": "code",
      "execution_count": 14,
      "metadata": {
        "colab": {
          "base_uri": "https://localhost:8080/"
        },
        "id": "J0Um5LCsa2X0",
        "outputId": "c968cc28-10c4-4a99-aacc-7776e5036d39"
      },
      "outputs": [
        {
          "output_type": "stream",
          "name": "stdout",
          "text": [
            "400 kelvin 126.85 C eder\n",
            "Dairenin Alanı: 7.065\n",
            "Dairenin Çevresi: 9.42\n",
            "4 basamaklı bir sayı girin: 1234\n",
            "İlk ve son basamağın toplamı: 5\n",
            "500 km'lik yolculuk 4 saat 32 dakika sürecek.\n"
          ]
        }
      ],
      "source": [
        "#1. alıstırma\n",
        "kelvin = 400\n",
        "celcius = kelvin - 273.15\n",
        "print(f\"400 kelvin {celcius:.2f} C eder\")\n",
        "#2. alıstırma\n",
        "pi = 3.14\n",
        "r = 1.5\n",
        "alan = pi * (r ** 2)\n",
        "cevre = 2 * pi * r\n",
        "print(\"Dairenin Alanı:\", alan)\n",
        "print(\"Dairenin Çevresi:\", cevre)\n",
        "#3. alıstırma\n",
        "sayi = input(\"4 basamaklı bir sayı girin: \")\n",
        "toplam = int(sayi[0]) + int(sayi[3])\n",
        "print(\"İlk ve son basamağın toplamı:\", toplam)\n",
        "#4. alıstırma\n",
        "hiz = 110\n",
        "mesafe = 500\n",
        "sure_saat = mesafe / hiz\n",
        "sure_saat_tam = int(sure_saat)\n",
        "sure_dakika = (sure_saat - sure_saat_tam) * 60\n",
        "print(f\"500 km'lik yolculuk {sure_saat_tam} saat {int(sure_dakika)} dakika sürecek.\")\n",
        "\n",
        "\n",
        "\n",
        "\n",
        "\n",
        "\n"
      ]
    },
    {
      "cell_type": "code",
      "source": [],
      "metadata": {
        "id": "ptDUgVDxe1l1"
      },
      "execution_count": null,
      "outputs": []
    }
  ]
}